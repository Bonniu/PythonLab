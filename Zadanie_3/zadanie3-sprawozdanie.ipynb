{
 "cells": [
  {
   "cell_type": "markdown",
   "metadata": {},
   "source": [
    "# Zadanie 3 - Radosław Grela 216769, Jakub Wąchała 216914"
   ]
  },
  {
   "cell_type": "markdown",
   "metadata": {},
   "source": [
    "#### Importowanie potrzebnych pakietów oraz danych do zadania na ocenę 3"
   ]
  },
  {
   "cell_type": "code",
   "execution_count": 1,
   "metadata": {},
   "outputs": [],
   "source": [
    "import pandas as pd\n",
    "import numpy as np\n",
    "import matplotlib.pyplot as plt\n",
    "import os\n",
    "import statistics\n",
    "\n",
    "dane = pd.read_csv(\".\\\\fertility_Diagnosis.data\")\n",
    "ilosc_danych: int = len(dane)"
   ]
  },
  {
   "cell_type": "markdown",
   "metadata": {},
   "source": [
    "#### Cecha jakościowa Season "
   ]
  },
  {
   "cell_type": "code",
   "execution_count": 2,
   "metadata": {},
   "outputs": [
    {
     "name": "stdout",
     "output_type": "stream",
     "text": [
      "\n",
      "Cecha jakościowa: Season\n",
      "Opis: Sezon, w którym przeprowadzono analizę. \n",
      "         1) zima, \n",
      "         2) wiosna, \n",
      "         3) lato, \n",
      "         4) jesień. \n",
      "         (-1, -0,33, 0,33, 1)\n",
      "Dominanta:  -0.33\n",
      "Liczebność:  37\n",
      "Częstość:  0.37\n"
     ]
    }
   ],
   "source": [
    "print(\"\\nCecha jakościowa: Season\")\n",
    "print(\"\"\"Opis: Sezon, w którym przeprowadzono analizę. \n",
    "         1) zima, \n",
    "         2) wiosna, \n",
    "         3) lato, \n",
    "         4) jesień. \n",
    "         (-1, -0,33, 0,33, 1)\"\"\")\n",
    "season = dane.Season\n",
    "dominant = statistics.mode(season)\n",
    "licznik = len([1 for i in season if i == dominant])\n",
    "print(\"Dominanta: \", dominant)\n",
    "print(\"Liczebność: \", licznik)\n",
    "print(\"Częstość: \", licznik / ilosc_danych)\n"
   ]
  },
  {
   "cell_type": "markdown",
   "metadata": {},
   "source": [
    "#### Cecha ilościowa Age"
   ]
  },
  {
   "cell_type": "code",
   "execution_count": 3,
   "metadata": {},
   "outputs": [
    {
     "name": "stdout",
     "output_type": "stream",
     "text": [
      "\n",
      "Cecha ilościowa: Age\n",
      "Opis: Wiek w momencie analizy. 18–36 (0, 1)\n",
      "Średnia:  30.11\n",
      "Odchylenie standardowe:  2.2468608854096503\n",
      "Mediana:  30.0\n",
      "Maksimum:  36.0\n",
      "Minimum:  27.0\n"
     ]
    }
   ],
   "source": [
    "print(\"\\nCecha ilościowa: Age\")\n",
    "print(\"Opis: Wiek w momencie analizy. 18–36 (0, 1)\")\n",
    "age = round(dane.Age * 18) + 18\n",
    "print(\"Średnia: \", statistics.mean(age))\n",
    "print(\"Odchylenie standardowe: \", statistics.stdev(age))\n",
    "print(\"Mediana: \", statistics.median(age))\n",
    "print(\"Maksimum: \", max(age))\n",
    "print(\"Minimum: \", min(age))"
   ]
  },
  {
   "cell_type": "markdown",
   "metadata": {},
   "source": [
    "#### Cecha jakościowa IfDiseases "
   ]
  },
  {
   "cell_type": "code",
   "execution_count": 4,
   "metadata": {},
   "outputs": [
    {
     "name": "stdout",
     "output_type": "stream",
     "text": [
      "\n",
      "Cecha jakościowa: IfDiseases\n",
      "Opis: Choroby dziecięce (tj. Ospa wietrzna, odra, świnka, polio) 1) tak, 2) nie. (0, 1)\n",
      "Dominanta:  1\n",
      "Liczebność:  87\n",
      "Częstość:  0.87\n"
     ]
    }
   ],
   "source": [
    "print(\"\\nCecha jakościowa: IfDiseases\")\n",
    "print(\"Opis: Choroby dziecięce (tj. Ospa wietrzna, odra, świnka, polio) 1) tak, 2) nie. (0, 1)\")\n",
    "if_diseases = dane.IfDiseases\n",
    "dominant = statistics.mode(if_diseases)\n",
    "licznik = len([1 for i in if_diseases if i == dominant])\n",
    "print(\"Dominanta: \", dominant)\n",
    "print(\"Liczebność: \", licznik)\n",
    "print(\"Częstość: \", licznik / ilosc_danych)"
   ]
  },
  {
   "cell_type": "markdown",
   "metadata": {},
   "source": [
    "#### Cecha jakościowa IfTrauma "
   ]
  },
  {
   "cell_type": "code",
   "execution_count": 5,
   "metadata": {},
   "outputs": [
    {
     "name": "stdout",
     "output_type": "stream",
     "text": [
      "\n",
      "Cecha jakościowa: IfTrauma\n",
      "Wypadek lub poważna trauma 1) tak, 2) nie. (0, 1)\n",
      "Dominanta:  0\n",
      "Liczebność:  56\n",
      "Częstość:  0.56\n"
     ]
    }
   ],
   "source": [
    "print(\"\\nCecha jakościowa: IfTrauma\")\n",
    "print(\"Wypadek lub poważna trauma 1) tak, 2) nie. (0, 1)\")\n",
    "if_trauma = dane.IfTrauma\n",
    "dominant = statistics.mode(if_trauma)\n",
    "licznik = len([1 for i in if_trauma if i == dominant])\n",
    "print(\"Dominanta: \", dominant)\n",
    "print(\"Liczebność: \", licznik)\n",
    "print(\"Częstość: \", licznik / ilosc_danych)"
   ]
  },
  {
   "cell_type": "markdown",
   "metadata": {},
   "source": [
    "#### Cecha jakościowa IfIntervention "
   ]
  },
  {
   "cell_type": "code",
   "execution_count": 6,
   "metadata": {},
   "outputs": [
    {
     "name": "stdout",
     "output_type": "stream",
     "text": [
      "\n",
      "Cecha jakościowa: IfIntervention\n",
      "Opis: Interwencja chirurgiczna 1) tak, 2) nie. (0, 1)\n",
      "Dominanta:  1\n",
      "Liczebność:  51\n",
      "Częstość:  0.51\n"
     ]
    }
   ],
   "source": [
    "print(\"\\nCecha jakościowa: IfIntervention\")\n",
    "print(\"Opis: Interwencja chirurgiczna 1) tak, 2) nie. (0, 1)\")\n",
    "if_intervention = dane.IfIntervention\n",
    "dominant = statistics.mode(if_intervention)\n",
    "licznik = len([1 for i in if_intervention if i == dominant])\n",
    "print(\"Dominanta: \", dominant)\n",
    "print(\"Liczebność: \", licznik)\n",
    "print(\"Częstość: \", licznik / ilosc_danych)"
   ]
  },
  {
   "cell_type": "markdown",
   "metadata": {},
   "source": [
    "#### Cecha jakościowa IfFever "
   ]
  },
  {
   "cell_type": "code",
   "execution_count": 7,
   "metadata": {},
   "outputs": [
    {
     "name": "stdout",
     "output_type": "stream",
     "text": [
      "\n",
      "Cecha jakościowa: IfFever\n",
      "Opis: Wysokie gorączki w ostatnim roku \n",
      "        1) mniej niż trzy miesiące temu, \n",
      "        2) więcej niż trzy miesiące temu, \n",
      "        3) nie. \n",
      "        (-1, 0, 1)\n",
      "Dominanta:  0\n",
      "Liczebność:  63\n",
      "Częstość:  0.63\n"
     ]
    }
   ],
   "source": [
    "print(\"\\nCecha jakościowa: IfFever\")\n",
    "print(\"\"\"Opis: Wysokie gorączki w ostatnim roku \n",
    "        1) mniej niż trzy miesiące temu, \n",
    "        2) więcej niż trzy miesiące temu, \n",
    "        3) nie. \n",
    "        (-1, 0, 1)\"\"\")\n",
    "if_fever = dane.IfFever\n",
    "dominant = statistics.mode(if_fever)\n",
    "licznik = len([1 for i in if_fever if i == dominant])\n",
    "print(\"Dominanta: \", dominant)\n",
    "print(\"Liczebność: \", licznik)\n",
    "print(\"Częstość: \", licznik / ilosc_danych)"
   ]
  },
  {
   "cell_type": "markdown",
   "metadata": {},
   "source": [
    "#### Cecha jakościowa FreqOfAlc "
   ]
  },
  {
   "cell_type": "code",
   "execution_count": 8,
   "metadata": {},
   "outputs": [
    {
     "name": "stdout",
     "output_type": "stream",
     "text": [
      "\n",
      "Cecha jakościowa: FreqOfAlc\n",
      "Częstotliwość spożywania alkoholu \n",
      "            1) kilka razy dziennie, \n",
      "            2) każdego dnia, \n",
      "            3) kilka razy w tygodniu, \n",
      "            4) raz w tygodniu, \n",
      "            5) prawie nigdy lub nigdy \n",
      "            (0, 1)\n",
      "\n",
      "Dominanta:  1.0\n",
      "Liczebność:  40\n",
      "Częstość:  0.4\n"
     ]
    }
   ],
   "source": [
    "print(\"\\nCecha jakościowa: FreqOfAlc\")\n",
    "print(\"\"\"Częstotliwość spożywania alkoholu \n",
    "            1) kilka razy dziennie, \n",
    "            2) każdego dnia, \n",
    "            3) kilka razy w tygodniu, \n",
    "            4) raz w tygodniu, \n",
    "            5) prawie nigdy lub nigdy \n",
    "            (0, 1)\n",
    "\"\"\")\n",
    "freq_of_alc = dane.FreqOfAlc\n",
    "dominant = statistics.mode(freq_of_alc)\n",
    "licznik = len([1 for i in freq_of_alc if i == dominant])\n",
    "print(\"Dominanta: \", dominant)\n",
    "print(\"Liczebność: \", licznik)\n",
    "print(\"Częstość: \", licznik / ilosc_danych)"
   ]
  },
  {
   "cell_type": "markdown",
   "metadata": {},
   "source": [
    "#### Cecha jakościowa SmokingHabit "
   ]
  },
  {
   "cell_type": "code",
   "execution_count": 9,
   "metadata": {},
   "outputs": [
    {
     "name": "stdout",
     "output_type": "stream",
     "text": [
      "\n",
      "Cecha jakościowa: SmokingHabit\n",
      "Nałóg palenia \n",
      "            1) nigdy, \n",
      "            2) okazjonalnie \n",
      "            3) codziennie. \n",
      "            (-1, 0, 1)\n",
      "Dominanta:  -1\n",
      "Liczebność:  56\n",
      "Częstość:  0.56\n"
     ]
    }
   ],
   "source": [
    "print(\"\\nCecha jakościowa: SmokingHabit\")\n",
    "print(\"\"\"Nałóg palenia \n",
    "            1) nigdy, \n",
    "            2) okazjonalnie \n",
    "            3) codziennie. \n",
    "            (-1, 0, 1)\"\"\")\n",
    "smoking_habit = dane.SmokingHabit\n",
    "dominant = statistics.mode(smoking_habit)\n",
    "licznik = len([1 for i in smoking_habit if i == dominant])\n",
    "print(\"Dominanta: \", dominant)\n",
    "print(\"Liczebność: \", licznik)\n",
    "print(\"Częstość: \", licznik / ilosc_danych)"
   ]
  },
  {
   "cell_type": "markdown",
   "metadata": {},
   "source": [
    "#### Cecha jakościowa SitHours "
   ]
  },
  {
   "cell_type": "code",
   "execution_count": 10,
   "metadata": {},
   "outputs": [
    {
     "name": "stdout",
     "output_type": "stream",
     "text": [
      "\n",
      "Cecha jakościowa: SitHours\n",
      "Liczba godzin spędzonych na siedzeniu dziennie ene-16 (0, 1)\n",
      "Dominanta:  -1\n",
      "Liczebność:  56\n",
      "Częstość:  0.56\n"
     ]
    }
   ],
   "source": [
    "print(\"\\nCecha jakościowa: SitHours\")\n",
    "print(\"\"\"Liczba godzin spędzonych na siedzeniu dziennie ene-16 (0, 1)\"\"\")\n",
    "sit_hours = dane.SitHours\n",
    "dominant = statistics.mode(smoking_habit)\n",
    "licznik = len([1 for i in smoking_habit if i == dominant])\n",
    "print(\"Dominanta: \", dominant)\n",
    "print(\"Liczebność: \", licznik)\n",
    "print(\"Częstość: \", licznik / ilosc_danych)"
   ]
  },
  {
   "cell_type": "markdown",
   "metadata": {},
   "source": [
    "#### Cecha jakościowa Output"
   ]
  },
  {
   "cell_type": "code",
   "execution_count": 11,
   "metadata": {},
   "outputs": [
    {
     "name": "stdout",
     "output_type": "stream",
     "text": [
      "\n",
      "Cecha jakościowa: Output\n",
      "Wyjście: diagnoza normalna (N), zmieniona (O)\n",
      "Dominanta:  N\n",
      "Liczebność:  88\n",
      "Częstość:  0.88\n"
     ]
    }
   ],
   "source": [
    "print(\"\\nCecha jakościowa: Output\")\n",
    "print(\"\"\"Wyjście: diagnoza normalna (N), zmieniona (O)\"\"\")\n",
    "output = dane.Output\n",
    "dominant = statistics.mode(output)\n",
    "licznik = len([1 for i in output if i == dominant])\n",
    "print(\"Dominanta: \", dominant)\n",
    "print(\"Liczebność: \", licznik)\n",
    "print(\"Częstość: \", licznik / ilosc_danych)"
   ]
  },
  {
   "cell_type": "markdown",
   "metadata": {},
   "source": [
    "## Część na ocenę 4"
   ]
  },
  {
   "cell_type": "markdown",
   "metadata": {},
   "source": [
    "### Zaimportowanie danych"
   ]
  },
  {
   "cell_type": "code",
   "execution_count": 12,
   "metadata": {},
   "outputs": [],
   "source": [
    "dane = pd.read_csv(\".\\\\iris.data\")\n",
    "ilosc_danych: int = len(dane)"
   ]
  },
  {
   "cell_type": "markdown",
   "metadata": {},
   "source": [
    "### Macierz korelacji"
   ]
  },
  {
   "cell_type": "code",
   "execution_count": 13,
   "metadata": {},
   "outputs": [
    {
     "name": "stdout",
     "output_type": "stream",
     "text": [
      "              sepal_length  sepal_width  petal_length  petal_width\n",
      "sepal_length      1.000000    -0.109369      0.871754     0.817954\n",
      "sepal_width      -0.109369     1.000000     -0.420516    -0.356544\n",
      "petal_length      0.871754    -0.420516      1.000000     0.962757\n",
      "petal_width       0.817954    -0.356544      0.962757     1.000000\n"
     ]
    }
   ],
   "source": [
    "print(dane.corr())"
   ]
  },
  {
   "cell_type": "markdown",
   "metadata": {},
   "source": [
    "Z macierzy możemy wywnioskować, że najbardziej są skorelowane ze sobą petal_length i petal_width (0.962757)"
   ]
  },
  {
   "cell_type": "markdown",
   "metadata": {},
   "source": [
    "###  Histogramy dla dwóch cech najbardziej ze sobą skorelowanych"
   ]
  },
  {
   "cell_type": "markdown",
   "metadata": {},
   "source": [
    "#### Atrybut petal_length "
   ]
  },
  {
   "cell_type": "code",
   "execution_count": 14,
   "metadata": {},
   "outputs": [
    {
     "data": {
      "image/png": "[encoded data removed]",
      "text/plain": [
       "<Figure size 432x288 with 1 Axes>"
      ]
     },
     "metadata": {
      "needs_background": "light"
     },
     "output_type": "display_data"
    }
   ],
   "source": [
    "plt.hist(dane.petal_length, bins=22, range=(0, 10), color='#FF0000')\n",
    "plt.gca().set(title='petal_length - histogram', ylabel='Częstość')\n",
    "plt.show()"
   ]
  },
  {
   "cell_type": "markdown",
   "metadata": {},
   "source": [
    "#### Atrybut petal_width "
   ]
  },
  {
   "cell_type": "code",
   "execution_count": 15,
   "metadata": {},
   "outputs": [
    {
     "data": {
      "image/png": "[encoded data removed]",
      "text/plain": [
       "<Figure size 432x288 with 1 Axes>"
      ]
     },
     "metadata": {
      "needs_background": "light"
     },
     "output_type": "display_data"
    }
   ],
   "source": [
    "plt.hist(dane.petal_width, bins=13, range=(0, 3), color='#00FF00')\n",
    "plt.gca().set(title='petal_width - histogram', ylabel='Częstość')\n",
    "plt.show()"
   ]
  },
  {
   "cell_type": "code",
   "execution_count": null,
   "metadata": {},
   "outputs": [],
   "source": []
  }
 ],
 "metadata": {
  "kernelspec": {
   "display_name": "Python 3",
   "language": "python",
   "name": "python3"
  },
  "language_info": {
   "codemirror_mode": {
    "name": "ipython",
    "version": 3
   },
   "file_extension": ".py",
   "mimetype": "text/x-python",
   "name": "python",
   "nbconvert_exporter": "python",
   "pygments_lexer": "ipython3",
   "version": "3.7.4"
  }
 },
 "nbformat": 4,
 "nbformat_minor": 2
}
